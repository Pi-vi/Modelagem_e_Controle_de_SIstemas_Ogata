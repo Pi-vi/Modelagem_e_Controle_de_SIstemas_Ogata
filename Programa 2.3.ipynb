{
 "cells": [
  {
   "cell_type": "markdown",
   "id": "670130e9-0f91-4d0d-a0cc-d2c0e0562fdb",
   "metadata": {},
   "source": [
    "# Programa 2.3 OGATA pg 36"
   ]
  },
  {
   "cell_type": "code",
   "execution_count": 1,
   "id": "d0ae8d75-2ca3-4b0f-a502-c5d24a49f1f4",
   "metadata": {},
   "outputs": [],
   "source": [
    "from control import *"
   ]
  },
  {
   "cell_type": "code",
   "execution_count": 2,
   "id": "c93e4f53-d095-41be-b507-32966056d91c",
   "metadata": {},
   "outputs": [],
   "source": [
    "A = [[0,1,0],[0,0,1],[-5,-25,-5]]\n",
    "B = [[0],[25],[-120]]\n",
    "C = [1,0,0]\n",
    "D = [0]"
   ]
  },
  {
   "cell_type": "code",
   "execution_count": 3,
   "id": "86699baa-7b63-47e2-85bc-a1ef69959c61",
   "metadata": {},
   "outputs": [
    {
     "data": {
      "text/latex": [
       "$$\\frac{-1.776 \\times 10^{-15} s^2 + 25 s + 5}{s^3 + 5 s^2 + 25 s + 5}$$"
      ],
      "text/plain": [
       "TransferFunction(array([-1.77635684e-15,  2.50000000e+01,  5.00000000e+00]), array([ 1.,  5., 25.,  5.]))"
      ]
     },
     "execution_count": 3,
     "metadata": {},
     "output_type": "execute_result"
    }
   ],
   "source": [
    "G = ss2tf(A,B,C,D)\n",
    "G"
   ]
  }
 ],
 "metadata": {
  "kernelspec": {
   "display_name": "Python 3 (ipykernel)",
   "language": "python",
   "name": "python3"
  },
  "language_info": {
   "codemirror_mode": {
    "name": "ipython",
    "version": 3
   },
   "file_extension": ".py",
   "mimetype": "text/x-python",
   "name": "python",
   "nbconvert_exporter": "python",
   "pygments_lexer": "ipython3",
   "version": "3.10.6"
  }
 },
 "nbformat": 4,
 "nbformat_minor": 5
}
