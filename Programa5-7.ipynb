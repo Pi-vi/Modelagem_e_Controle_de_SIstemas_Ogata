{
 "cells": [
  {
   "cell_type": "markdown",
   "id": "75e27dc3-bbd8-4dfd-8c92-8b7234def8ec",
   "metadata": {},
   "source": [
    "# Programa Ogata 5.7 pg 176"
   ]
  },
  {
   "cell_type": "markdown",
   "id": "45b0f81d-9681-42cf-88b2-0fde1e4fe84a",
   "metadata": {},
   "source": [
    "Obtenha o tempo de subida, tempo de pico, máximo sobressinal e tempo de acomodação com o Python. \n",
    "\n",
    "Considere o sistema definido por:\n",
    "\n",
    "$$\\dfrac{C(s)}{R(s)} = \\dfrac{25}{s^2 + 6s + 25}$$\n"
   ]
  },
  {
   "cell_type": "code",
   "execution_count": 1,
   "id": "b909b22e-b635-419a-88b0-ff14703c4ec7",
   "metadata": {},
   "outputs": [],
   "source": [
    "from control import *\n",
    "import numpy as np\n",
    "import matplotlib.pyplot as plt"
   ]
  },
  {
   "cell_type": "code",
   "execution_count": 2,
   "id": "5d1bfa32-722a-4690-b3e3-16de65129e05",
   "metadata": {},
   "outputs": [
    {
     "data": {
      "text/latex": [
       "$$\\frac{25}{s^2 + 6 s + 25}$$"
      ],
      "text/plain": [
       "TransferFunction(array([25]), array([ 1,  6, 25]))"
      ]
     },
     "execution_count": 2,
     "metadata": {},
     "output_type": "execute_result"
    }
   ],
   "source": [
    "sistema = tf([25],[1,6,25])\n",
    "sistema"
   ]
  },
  {
   "cell_type": "code",
   "execution_count": 3,
   "id": "c4417fe4-25b6-41f6-83b9-68d234368196",
   "metadata": {},
   "outputs": [],
   "source": [
    "t = np.linspace(0,5,1000)"
   ]
  },
  {
   "cell_type": "code",
   "execution_count": 4,
   "id": "e2ae6389-bafd-4ef2-9f66-4a49a4edf8c8",
   "metadata": {},
   "outputs": [],
   "source": [
    "t1,y1 = step_response(sistema,t)"
   ]
  },
  {
   "cell_type": "code",
   "execution_count": 5,
   "id": "97cc6b4e-cabc-4a14-915f-4ebd13fea093",
   "metadata": {},
   "outputs": [
    {
     "data": {
      "image/png": "[encoded data removed]",
      "text/plain": [
       "<Figure size 900x600 with 1 Axes>"
      ]
     },
     "metadata": {
      "needs_background": "light"
     },
     "output_type": "display_data"
    }
   ],
   "source": [
    "plt.figure(dpi=150)\n",
    "plt.plot(t1,y1)\n",
    "plt.xlabel('Tempo[s]')\n",
    "plt.ylabel('Amplitude')\n",
    "plt.grid(True)\n",
    "plt.show()"
   ]
  },
  {
   "cell_type": "code",
   "execution_count": 6,
   "id": "04f567f2-e5d6-4ac8-aac8-ce4fdb9144ee",
   "metadata": {},
   "outputs": [
    {
     "name": "stdout",
     "output_type": "stream",
     "text": [
      "tempo de subida =  0.551\n"
     ]
    }
   ],
   "source": [
    "r = 0\n",
    "while y1[r] < 1.0001:\n",
    "    r = r + 1\n",
    "tempo_de_subida = t1[r-1]\n",
    "print('tempo de subida = ',round(tempo_de_subida,3))"
   ]
  },
  {
   "cell_type": "code",
   "execution_count": 7,
   "id": "6d1bdc74-e760-4969-b511-5f391669833f",
   "metadata": {},
   "outputs": [
    {
     "name": "stdout",
     "output_type": "stream",
     "text": [
      "tempo de pico =  0.7858\n"
     ]
    }
   ],
   "source": [
    "tp_indice = np.argmax(y1)\n",
    "tempo_de_pico = t1[tp_indice]\n",
    "print('tempo de pico = ',round(tempo_de_pico,4))"
   ]
  },
  {
   "cell_type": "code",
   "execution_count": 8,
   "id": "05b436bb-c383-4b5b-9db9-8825bdb5d770",
   "metadata": {},
   "outputs": [
    {
     "name": "stdout",
     "output_type": "stream",
     "text": [
      "máximo sobressinal =  0.0948\n"
     ]
    }
   ],
   "source": [
    "max_overshoot = max(y1) -1 \n",
    "print('máximo sobressinal = ',round(max_overshoot,4))"
   ]
  },
  {
   "cell_type": "code",
   "execution_count": 9,
   "id": "ffa99606-2a1b-46f7-bd04-e88630a65a36",
   "metadata": {},
   "outputs": [
    {
     "data": {
      "text/plain": [
       "1000"
      ]
     },
     "execution_count": 9,
     "metadata": {},
     "output_type": "execute_result"
    }
   ],
   "source": [
    "len(y1)"
   ]
  },
  {
   "cell_type": "code",
   "execution_count": 10,
   "id": "9efed573-d133-45b1-9625-73d32e694019",
   "metadata": {},
   "outputs": [
    {
     "name": "stdout",
     "output_type": "stream",
     "text": [
      "tempo de acomodação =  1.19119\n"
     ]
    }
   ],
   "source": [
    "s = len(y1) - 1\n",
    "while y1[s] > 0.98 and y1[s] < 1.02:\n",
    "    s = s - 1\n",
    "tempo_de_acomodacao = t1[s+1]\n",
    "print('tempo de acomodação = ',round(tempo_de_acomodacao,5))"
   ]
  }
 ],
 "metadata": {
  "kernelspec": {
   "display_name": "Python 3 (ipykernel)",
   "language": "python",
   "name": "python3"
  },
  "language_info": {
   "codemirror_mode": {
    "name": "ipython",
    "version": 3
   },
   "file_extension": ".py",
   "mimetype": "text/x-python",
   "name": "python",
   "nbconvert_exporter": "python",
   "pygments_lexer": "ipython3",
   "version": "3.10.6"
  }
 },
 "nbformat": 4,
 "nbformat_minor": 5
}
