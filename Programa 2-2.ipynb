{
 "cells": [
  {
   "cell_type": "markdown",
   "id": "0562d953-9936-4a55-b8f2-c17f98244edf",
   "metadata": {},
   "source": [
    "# Programa 2.2 - OGATA pg 35"
   ]
  },
  {
   "cell_type": "code",
   "execution_count": 1,
   "id": "373766d9-4d90-4798-bd09-2b5931c57731",
   "metadata": {},
   "outputs": [],
   "source": [
    "from control import *"
   ]
  },
  {
   "cell_type": "code",
   "execution_count": 2,
   "id": "e558f30c-056c-4928-a4e8-c4aa32222347",
   "metadata": {},
   "outputs": [],
   "source": [
    "num = [1,0]\n",
    "den = [1,14,56,160]"
   ]
  },
  {
   "cell_type": "code",
   "execution_count": 3,
   "id": "5e8bec1e-8329-4779-aaa0-f6e69a728d07",
   "metadata": {},
   "outputs": [
    {
     "data": {
      "text/latex": [
       "\\[\n",
       "\\left(\\begin{array}{rllrllrll|rll}\n",
       "-14\\phantom{.}&\\hspace{-1em}&\\hspace{-1em}\\phantom{\\cdot}&-56\\phantom{.}&\\hspace{-1em}&\\hspace{-1em}\\phantom{\\cdot}&-160\\phantom{.}&\\hspace{-1em}&\\hspace{-1em}\\phantom{\\cdot}&1\\phantom{.}&\\hspace{-1em}&\\hspace{-1em}\\phantom{\\cdot}\\\\\n",
       "1\\phantom{.}&\\hspace{-1em}&\\hspace{-1em}\\phantom{\\cdot}&0\\phantom{.}&\\hspace{-1em}&\\hspace{-1em}\\phantom{\\cdot}&0\\phantom{.}&\\hspace{-1em}&\\hspace{-1em}\\phantom{\\cdot}&0\\phantom{.}&\\hspace{-1em}&\\hspace{-1em}\\phantom{\\cdot}\\\\\n",
       "0\\phantom{.}&\\hspace{-1em}&\\hspace{-1em}\\phantom{\\cdot}&1\\phantom{.}&\\hspace{-1em}&\\hspace{-1em}\\phantom{\\cdot}&0\\phantom{.}&\\hspace{-1em}&\\hspace{-1em}\\phantom{\\cdot}&0\\phantom{.}&\\hspace{-1em}&\\hspace{-1em}\\phantom{\\cdot}\\\\\n",
       "\\hline\n",
       "0\\phantom{.}&\\hspace{-1em}&\\hspace{-1em}\\phantom{\\cdot}&1\\phantom{.}&\\hspace{-1em}&\\hspace{-1em}\\phantom{\\cdot}&0\\phantom{.}&\\hspace{-1em}&\\hspace{-1em}\\phantom{\\cdot}&0\\phantom{.}&\\hspace{-1em}&\\hspace{-1em}\\phantom{\\cdot}\\\\\n",
       "\\end{array}\\right)\n",
       "\\]"
      ],
      "text/plain": [
       "StateSpace(array([[ -14.,  -56., -160.],\n",
       "       [   1.,    0.,    0.],\n",
       "       [   0.,    1.,    0.]]), array([[1.],\n",
       "       [0.],\n",
       "       [0.]]), array([[0., 1., 0.]]), array([[0.]]))"
      ]
     },
     "execution_count": 3,
     "metadata": {},
     "output_type": "execute_result"
    }
   ],
   "source": [
    "G_ss = tf2ss(num,den)\n",
    "G_ss"
   ]
  },
  {
   "cell_type": "code",
   "execution_count": 4,
   "id": "386c5d10-f1fe-4416-a410-73d2d7fa1755",
   "metadata": {},
   "outputs": [
    {
     "data": {
      "text/plain": [
       "array([[ -14.,  -56., -160.],\n",
       "       [   1.,    0.,    0.],\n",
       "       [   0.,    1.,    0.]])"
      ]
     },
     "execution_count": 4,
     "metadata": {},
     "output_type": "execute_result"
    }
   ],
   "source": [
    "G_ss.A"
   ]
  },
  {
   "cell_type": "code",
   "execution_count": 5,
   "id": "3a33eed8-ec1c-4617-b992-510ef5cb221c",
   "metadata": {},
   "outputs": [
    {
     "data": {
      "text/plain": [
       "array([[1.],\n",
       "       [0.],\n",
       "       [0.]])"
      ]
     },
     "execution_count": 5,
     "metadata": {},
     "output_type": "execute_result"
    }
   ],
   "source": [
    "G_ss.B"
   ]
  },
  {
   "cell_type": "code",
   "execution_count": 6,
   "id": "fe7f10a6-7976-47f8-809c-8c3f14935cba",
   "metadata": {},
   "outputs": [
    {
     "data": {
      "text/plain": [
       "array([[0., 1., 0.]])"
      ]
     },
     "execution_count": 6,
     "metadata": {},
     "output_type": "execute_result"
    }
   ],
   "source": [
    "G_ss.C"
   ]
  },
  {
   "cell_type": "code",
   "execution_count": 7,
   "id": "1cccf369-4f9a-4c10-a7ad-0de2560c3d47",
   "metadata": {},
   "outputs": [
    {
     "data": {
      "text/plain": [
       "array([[0.]])"
      ]
     },
     "execution_count": 7,
     "metadata": {},
     "output_type": "execute_result"
    }
   ],
   "source": [
    "G_ss.D"
   ]
  }
 ],
 "metadata": {
  "kernelspec": {
   "display_name": "Python 3 (ipykernel)",
   "language": "python",
   "name": "python3"
  },
  "language_info": {
   "codemirror_mode": {
    "name": "ipython",
    "version": 3
   },
   "file_extension": ".py",
   "mimetype": "text/x-python",
   "name": "python",
   "nbconvert_exporter": "python",
   "pygments_lexer": "ipython3",
   "version": "3.10.6"
  }
 },
 "nbformat": 4,
 "nbformat_minor": 5
}
